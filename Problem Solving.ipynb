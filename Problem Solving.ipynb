{
 "cells": [
  {
   "cell_type": "code",
   "execution_count": 15,
   "metadata": {},
   "outputs": [
    {
     "name": "stdout",
     "output_type": "stream",
     "text": [
      "[6, 8]\n"
     ]
    }
   ],
   "source": [
    "#1.find the missing number in given integer array of 1 to 10. l = [1,2,3,4,5,6,7,7,9,10]\n",
    "\n",
    "l = [1,2,3,4,5,7,9,10]\n",
    "l1 = list(range(1,11))\n",
    "missing_No = []\n",
    "for i in l1:\n",
    "    if i not in l:\n",
    "        missing_No.append(i)\n",
    "print(missing_No)\n",
    "        \n"
   ]
  },
  {
   "cell_type": "code",
   "execution_count": 16,
   "metadata": {},
   "outputs": [
    {
     "name": "stdout",
     "output_type": "stream",
     "text": [
      "8.0\n"
     ]
    }
   ],
   "source": [
    "l = [1,2,3,4,5,6,7,9,10]\n",
    "n = 10\n",
    "sum_n = n*(n+1)/2\n",
    "list_sum = sum(l)\n",
    "missing_no = sum_n - list_sum\n",
    "print(missing_no)"
   ]
  },
  {
   "cell_type": "code",
   "execution_count": 23,
   "metadata": {},
   "outputs": [
    {
     "name": "stdout",
     "output_type": "stream",
     "text": [
      "5 is the element and its index is 4\n"
     ]
    }
   ],
   "source": [
    "# 2.Find an element in array such that sum of left array is equal to sum of right array.\n",
    "\n",
    "l = [1,2,1,1,5,4,1]\n",
    "for index,value in enumerate(l):\n",
    "    if sum(l[:index]) == sum(l[index + 1:]):\n",
    "        print(\"{} is the element and its index is {}\".format(l[index],index))\n",
    "        break"
   ]
  },
  {
   "cell_type": "code",
   "execution_count": 30,
   "metadata": {},
   "outputs": [
    {
     "name": "stdout",
     "output_type": "stream",
     "text": [
      "Valid shuffle\n"
     ]
    }
   ],
   "source": [
    "# 3.Given 3 strings: first, second, and third.Third String is said to be a shuffle of first and second if it can be formed by interleaving the characters of first and second String in a way that maintains the left to right ordering of the characters from each string.\n",
    "\n",
    "s1 = \"abc\"\n",
    "s2 = \"def\"\n",
    "\n",
    "s3 = \"adbecf\"\n",
    "s1_pointer = 0\n",
    "s2_pointer = 0\n",
    "s3_index = 0\n",
    "\n",
    "while s3_index < len(s3):\n",
    "    if s3[s3_index] in s1 and s1[s1_pointer] == s3[s3_index]:\n",
    "        s1_pointer+=1\n",
    "    elif s3[s3_index] in s2 and s2[s2_pointer] == s3[s3_index]:\n",
    "        s2_pointer+=1\n",
    "    else:\n",
    "        print(\"Invalid shuffle\")\n",
    "        break\n",
    "    s3_index+=1\n",
    "else:\n",
    "    print(\"Valid shuffle\")"
   ]
  },
  {
   "cell_type": "code",
   "execution_count": 10,
   "metadata": {},
   "outputs": [
    {
     "name": "stdout",
     "output_type": "stream",
     "text": [
      "ok\n"
     ]
    }
   ],
   "source": [
    "# 4.A Program to check if strings are rotations of each other or not Given a string s1 and a string s2, \n",
    "#write a snippet to say whether s2 is a rotation of s1 (eg given s1 = ABCD and s2 = CDAB, return true, \n",
    "#given s1 = ABCD, and s2 = ACBD , return false)\n",
    "\n",
    "s1 = \"ABCDe\"\n",
    "s2 = \"CDeAB\"\n",
    "\n",
    "s2_pointer = 0\n",
    "s1_pointer = s1.find(s2[0])\n",
    "\n",
    "while s2_pointer < len(s2):\n",
    "    if s1[s1_pointer] == s2[s2_pointer]:\n",
    "        s2_pointer += 1\n",
    "        s1_pointer += 1\n",
    "        if s1_pointer >= len(s1):\n",
    "            s1_pointer = s1_pointer - len(s1)\n",
    "    else:\n",
    "        print(\"Invalid reverse\")\n",
    "        break\n",
    "else:\n",
    "    print(\"ok\")"
   ]
  },
  {
   "cell_type": "code",
   "execution_count": 35,
   "metadata": {},
   "outputs": [
    {
     "name": "stdout",
     "output_type": "stream",
     "text": [
      "[(2, 5), (3, 4), (4, 3), (5, 2)]\n",
      "[(2, 5), (3, 4), (4, 3), (5, 2)]\n"
     ]
    }
   ],
   "source": [
    "#Write a program to find all pairs in a list of Integers Whose sum is equal to a given Number.\n",
    "\n",
    "l = [1,2,3,4,5]\n",
    "sum = 7\n",
    "valid_poissible_pair2 = []\n",
    "valid_possible_pair = []\n",
    "#Methode1\n",
    "for i in l:\n",
    "    for j in l:\n",
    "        if i + j == 7:\n",
    "            valid_possible_pair.append((i,j))\n",
    "print(valid_possible_pair)\n",
    "\n",
    "#method2\n",
    "for i in l:\n",
    "    value = sum - i\n",
    "    if value in l:\n",
    "        valid_poissible_pair2.append((i,value))\n",
    "print(valid_poissible_pair2)\n",
    "        "
   ]
  },
  {
   "cell_type": "code",
   "execution_count": 49,
   "metadata": {},
   "outputs": [
    {
     "name": "stdout",
     "output_type": "stream",
     "text": [
      "Enter the rotator : 5\n",
      "bjqhtrj\n"
     ]
    }
   ],
   "source": [
    "#Caesar's cipher shifts each letter by a number of letters. If the shift takes you past the end of the alphabet, just rotate back to the front of the alphabet. In the case of a rotation by 3, w, x, y and z would map to z, a, b and c.\n",
    "\n",
    "s = \"welcome\"\n",
    "n = int(input(\"Enter the rotator : \"))\n",
    "s1 = []\n",
    "for i in s:\n",
    "    s2 = ord(i) + n\n",
    "    if s2 > 122:\n",
    "        s2 -= 26\n",
    "    s1.append(chr(s2))\n",
    "s3 = (\"\").join(s1)\n",
    "print(s3)"
   ]
  },
  {
   "cell_type": "code",
   "execution_count": 57,
   "metadata": {},
   "outputs": [
    {
     "name": "stdout",
     "output_type": "stream",
     "text": [
      "strings are anagram\n",
      "Anagram\n"
     ]
    }
   ],
   "source": [
    "#Write aprogram to check if two given strings are anagram of each other or not.\n",
    "\n",
    "s1 = \"Army\"\n",
    "s2 = \"Mary\"\n",
    "#method 1\n",
    "l1 = s1.lower()\n",
    "l2 = s2.lower()\n",
    "l3 = sorted(l1)\n",
    "l4 = sorted(l2)\n",
    "if l3 == l4:\n",
    "    print(\"strings are anagram\")\n",
    "else:\n",
    "    print(\"not\")\n",
    "#method 2\n",
    "b1 = []\n",
    "b2 = []\n",
    "for i in s1:\n",
    "    if i.isalpha():\n",
    "        b1.append(i.lower())\n",
    "for i in s2:\n",
    "    if i.isalpha():\n",
    "        b2.append(i.lower())\n",
    "if sorted(b1) == sorted(b2):\n",
    "    print(\"Anagram\")\n",
    "else:\n",
    "    print(\"Not\")"
   ]
  },
  {
   "cell_type": "code",
   "execution_count": 73,
   "metadata": {},
   "outputs": [
    {
     "name": "stdout",
     "output_type": "stream",
     "text": [
      "h\n"
     ]
    }
   ],
   "source": [
    "#Write a program to find the first non repeated character of a given String\n",
    "\n",
    "l = \"hello\"\n",
    "for i in l:\n",
    "    if l.count(i) == 1:\n",
    "        print(i)\n",
    "        break\n",
    "else:\n",
    "    print(\"All the chars are repated\")\n",
    "    "
   ]
  }
 ],
 "metadata": {
  "kernelspec": {
   "display_name": "Python 3",
   "language": "python",
   "name": "python3"
  },
  "language_info": {
   "codemirror_mode": {
    "name": "ipython",
    "version": 3
   },
   "file_extension": ".py",
   "mimetype": "text/x-python",
   "name": "python",
   "nbconvert_exporter": "python",
   "pygments_lexer": "ipython3",
   "version": "3.7.4"
  }
 },
 "nbformat": 4,
 "nbformat_minor": 2
}
