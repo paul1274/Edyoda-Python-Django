{
 "cells": [
  {
   "cell_type": "markdown",
   "metadata": {},
   "source": [
    "Problem call a function with multiple words and return a string separated with sapces containing only the words of even length"
   ]
  },
  {
   "cell_type": "code",
   "execution_count": 11,
   "metadata": {},
   "outputs": [],
   "source": [
    "def evenWordsCollector(*args):\n",
    "    l = []\n",
    "    for i in args:\n",
    "        if ifWordEven(i):\n",
    "            l.append(i)\n",
    "    res = ' '.join(l)\n",
    "    return res\n",
    "    \n",
    "    "
   ]
  },
  {
   "cell_type": "code",
   "execution_count": 14,
   "metadata": {},
   "outputs": [],
   "source": [
    "def ifWordEven(i):\n",
    "    if len(i)%2 == 0:\n",
    "        return True\n",
    "    else:\n",
    "        return False"
   ]
  },
  {
   "cell_type": "code",
   "execution_count": 19,
   "metadata": {},
   "outputs": [
    {
     "data": {
      "text/plain": [
       "'assd adssssad'"
      ]
     },
     "execution_count": 19,
     "metadata": {},
     "output_type": "execute_result"
    }
   ],
   "source": [
    "evenWordsCollector('assd','asdse','adssssad','adsadsdsf')"
   ]
  },
  {
   "cell_type": "code",
   "execution_count": 29,
   "metadata": {},
   "outputs": [],
   "source": [
    "def varArgs(**kargs):\n",
    "    print(type(kargs))"
   ]
  },
  {
   "cell_type": "code",
   "execution_count": 30,
   "metadata": {},
   "outputs": [
    {
     "name": "stdout",
     "output_type": "stream",
     "text": [
      "<class 'dict'>\n"
     ]
    }
   ],
   "source": [
    "varArgs(name='s')"
   ]
  },
  {
   "cell_type": "markdown",
   "metadata": {},
   "source": [
    "# Problem Statement¶\n",
    "#Take employee data and put it in a list"
   ]
  },
  {
   "cell_type": "code",
   "execution_count": 31,
   "metadata": {},
   "outputs": [],
   "source": [
    "def createEmployeeData(list_emp,**kwargs):\n",
    "    list_emp.append(kwargs)"
   ]
  },
  {
   "cell_type": "code",
   "execution_count": 32,
   "metadata": {},
   "outputs": [],
   "source": [
    "list_emp = []\n",
    "createEmployeeData(list_emp,name = 'abc',age = 20)"
   ]
  },
  {
   "cell_type": "code",
   "execution_count": 33,
   "metadata": {},
   "outputs": [
    {
     "data": {
      "text/plain": [
       "[{'name': 'abc', 'age': 20}]"
      ]
     },
     "execution_count": 33,
     "metadata": {},
     "output_type": "execute_result"
    }
   ],
   "source": [
    "list_emp"
   ]
  },
  {
   "cell_type": "code",
   "execution_count": 50,
   "metadata": {},
   "outputs": [],
   "source": [
    "createEmployeeData(list_emp,name ='ge',age = 43)"
   ]
  },
  {
   "cell_type": "code",
   "execution_count": 51,
   "metadata": {},
   "outputs": [
    {
     "data": {
      "text/plain": [
       "[{'name': 'abc', 'age': 20},\n",
       " {'name': 'def', 'age': 40, 'location': 'blr'},\n",
       " {'name': 'def', 'age': 40, 'location': 'blr'},\n",
       " {'name': 'ef', 'age': 43},\n",
       " {'name': 'ef', 'age': 43},\n",
       " {'name': 'ef', 'age': 43},\n",
       " {'name': 'ge', 'age': 43}]"
      ]
     },
     "execution_count": 51,
     "metadata": {},
     "output_type": "execute_result"
    }
   ],
   "source": [
    "list_emp"
   ]
  },
  {
   "cell_type": "code",
   "execution_count": 53,
   "metadata": {},
   "outputs": [],
   "source": [
    "createEmployeeData(list_emp,name ='ge',age = 34,salary = 100000)\n",
    "createEmployeeData(list_emp,name ='fe',age = 43,salary = 500000)\n",
    "createEmployeeData(list_emp,name ='re',age = 33,salary = 41000)"
   ]
  },
  {
   "cell_type": "code",
   "execution_count": 54,
   "metadata": {},
   "outputs": [
    {
     "data": {
      "text/plain": [
       "[{'name': 'abc', 'age': 20},\n",
       " {'name': 'def', 'age': 40, 'location': 'blr'},\n",
       " {'name': 'def', 'age': 40, 'location': 'blr'},\n",
       " {'name': 'ef', 'age': 43},\n",
       " {'name': 'ef', 'age': 43},\n",
       " {'name': 'ef', 'age': 43},\n",
       " {'name': 'ge', 'age': 43},\n",
       " {'name': 'ge', 'age': 34, 'salary': 100000},\n",
       " {'name': 'fe', 'age': 43, 'salary': 500000},\n",
       " {'name': 're', 'age': 33, 'salary': 41000}]"
      ]
     },
     "execution_count": 54,
     "metadata": {},
     "output_type": "execute_result"
    }
   ],
   "source": [
    "list_emp"
   ]
  },
  {
   "cell_type": "code",
   "execution_count": 73,
   "metadata": {},
   "outputs": [
    {
     "name": "stdout",
     "output_type": "stream",
     "text": [
      "{'name': 'def', 'age': 40, 'location': 'blr'}\n",
      "{'name': 'def', 'age': 40, 'location': 'blr'}\n"
     ]
    }
   ],
   "source": [
    "for i in list_emp:\n",
    "    if 'location' in i:\n",
    "        print(i)"
   ]
  },
  {
   "cell_type": "code",
   "execution_count": 86,
   "metadata": {},
   "outputs": [],
   "source": [
    "def getPeopleSalary(list_emp,salary=50000):\n",
    "    res =[]\n",
    "    for i in list_emp:\n",
    "        if 'salary' in i:\n",
    "            if i['salary'] >= salary:\n",
    "                res.append(i)\n",
    "    return res"
   ]
  },
  {
   "cell_type": "code",
   "execution_count": 87,
   "metadata": {},
   "outputs": [
    {
     "data": {
      "text/plain": [
       "[{'name': 'ge', 'age': 34, 'salary': 100000},\n",
       " {'name': 'fe', 'age': 43, 'salary': 500000}]"
      ]
     },
     "execution_count": 87,
     "metadata": {},
     "output_type": "execute_result"
    }
   ],
   "source": [
    "getPeopleSalary(list_emp,100000)"
   ]
  },
  {
   "cell_type": "markdown",
   "metadata": {},
   "source": [
    "# student Problem"
   ]
  },
  {
   "cell_type": "code",
   "execution_count": 88,
   "metadata": {},
   "outputs": [],
   "source": [
    "def studentMarkSheet(list_student,**marks):\n",
    "    list_student.append(marks)"
   ]
  },
  {
   "cell_type": "code",
   "execution_count": 90,
   "metadata": {},
   "outputs": [],
   "source": [
    "list_student = []\n",
    "studentMarkSheet(list_student,name = 'Abi',maths = 84,science = 77,engilish = 88)\n",
    "studentMarkSheet(list_student,name = 'Balu',maths = 74,science = 82,engilish = 81)\n",
    "studentMarkSheet(list_student,name = 'Kevin',maths = 97,science = 93,engilish = 78)\n",
    "studentMarkSheet(list_student,name = 'Sam',maths = 89,science = 87,engilish = 91)\n",
    "studentMarkSheet(list_student,name = 'Ram',maths = 78,science = 81,engilish = 86)"
   ]
  },
  {
   "cell_type": "code",
   "execution_count": 91,
   "metadata": {},
   "outputs": [
    {
     "data": {
      "text/plain": [
       "[{'name': 'Abi', 'maths': 84, 'science': 77, 'engilish': 88},\n",
       " {'name': 'Balu', 'maths': 74, 'science': 82, 'engilish': 81},\n",
       " {'name': 'Kevin', 'maths': 97, 'science': 93, 'engilish': 78},\n",
       " {'name': 'Sam', 'maths': 89, 'science': 87, 'engilish': 91},\n",
       " {'name': 'Ram', 'maths': 78, 'science': 81, 'engilish': 86}]"
      ]
     },
     "execution_count": 91,
     "metadata": {},
     "output_type": "execute_result"
    }
   ],
   "source": [
    "list_student"
   ]
  },
  {
   "cell_type": "code",
   "execution_count": 92,
   "metadata": {},
   "outputs": [],
   "source": [
    "def avgMarks(list_student):\n",
    "    total_mark = 0\n",
    "    count = 0\n",
    "    for i in list_student:\n",
    "        for k,v in i.items():\n",
    "            if k != 'name':\n",
    "                total_mark += v\n",
    "                count += 1\n",
    "        i['avg'] =total_mark/count\n",
    "                \n",
    "            "
   ]
  },
  {
   "cell_type": "code",
   "execution_count": 93,
   "metadata": {},
   "outputs": [],
   "source": [
    "avgMarks(list_student)"
   ]
  },
  {
   "cell_type": "code",
   "execution_count": 94,
   "metadata": {},
   "outputs": [
    {
     "data": {
      "text/plain": [
       "[{'name': 'Abi', 'maths': 84, 'science': 77, 'engilish': 88, 'avg': 83.0},\n",
       " {'name': 'Balu', 'maths': 74, 'science': 82, 'engilish': 81, 'avg': 81.0},\n",
       " {'name': 'Kevin',\n",
       "  'maths': 97,\n",
       "  'science': 93,\n",
       "  'engilish': 78,\n",
       "  'avg': 83.77777777777777},\n",
       " {'name': 'Sam',\n",
       "  'maths': 89,\n",
       "  'science': 87,\n",
       "  'engilish': 91,\n",
       "  'avg': 85.08333333333333},\n",
       " {'name': 'Ram', 'maths': 78, 'science': 81, 'engilish': 86, 'avg': 84.4}]"
      ]
     },
     "execution_count": 94,
     "metadata": {},
     "output_type": "execute_result"
    }
   ],
   "source": [
    "list_student"
   ]
  },
  {
   "cell_type": "code",
   "execution_count": 95,
   "metadata": {},
   "outputs": [],
   "source": [
    "def findTopper(list_student):\n",
    "    def t(f):\n",
    "        return f['avg']\n",
    "    return max(list_student,key = t)"
   ]
  },
  {
   "cell_type": "code",
   "execution_count": 96,
   "metadata": {},
   "outputs": [
    {
     "data": {
      "text/plain": [
       "{'name': 'Sam',\n",
       " 'maths': 89,\n",
       " 'science': 87,\n",
       " 'engilish': 91,\n",
       " 'avg': 85.08333333333333}"
      ]
     },
     "execution_count": 96,
     "metadata": {},
     "output_type": "execute_result"
    }
   ],
   "source": [
    "findTopper(list_student)"
   ]
  },
  {
   "cell_type": "code",
   "execution_count": null,
   "metadata": {},
   "outputs": [],
   "source": []
  }
 ],
 "metadata": {
  "kernelspec": {
   "display_name": "Python 3",
   "language": "python",
   "name": "python3"
  },
  "language_info": {
   "codemirror_mode": {
    "name": "ipython",
    "version": 3
   },
   "file_extension": ".py",
   "mimetype": "text/x-python",
   "name": "python",
   "nbconvert_exporter": "python",
   "pygments_lexer": "ipython3",
   "version": "3.7.4"
  }
 },
 "nbformat": 4,
 "nbformat_minor": 2
}
