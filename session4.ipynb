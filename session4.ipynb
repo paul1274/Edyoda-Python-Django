{
 "cells": [
  {
   "cell_type": "code",
   "execution_count": 10,
   "metadata": {},
   "outputs": [
    {
     "name": "stdout",
     "output_type": "stream",
     "text": [
      "No: of vowels =  4\n",
      "No: of consonent =  14\n"
     ]
    }
   ],
   "source": [
    "s = \"Python sample string\"\n",
    "count = 0\n",
    "c = 0\n",
    "for i in s:\n",
    "    if i in \"aeiouAEIOU\":\n",
    "        count+=1\n",
    "    elif i == \" \":\n",
    "        pass\n",
    "    else:\n",
    "        c+=1\n",
    "print(\"No: of vowels = \", count)\n",
    "print(\"No: of consonent = \", c)\n",
    "        \n",
    "    "
   ]
  },
  {
   "cell_type": "code",
   "execution_count": null,
   "metadata": {},
   "outputs": [],
   "source": []
  }
 ],
 "metadata": {
  "kernelspec": {
   "display_name": "Python 3",
   "language": "python",
   "name": "python3"
  },
  "language_info": {
   "codemirror_mode": {
    "name": "ipython",
    "version": 3
   },
   "file_extension": ".py",
   "mimetype": "text/x-python",
   "name": "python",
   "nbconvert_exporter": "python",
   "pygments_lexer": "ipython3",
   "version": "3.7.4"
  }
 },
 "nbformat": 4,
 "nbformat_minor": 2
}
