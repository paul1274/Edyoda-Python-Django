{
 "cells": [
  {
   "cell_type": "code",
   "execution_count": 18,
   "metadata": {},
   "outputs": [
    {
     "name": "stdout",
     "output_type": "stream",
     "text": [
      "Invalid date\n"
     ]
    }
   ],
   "source": [
    "import re\n",
    "\n",
    "def checkLeap(y):\n",
    "    year = int(y)\n",
    "    if (year % 4) == 0:\n",
    "        if (year % 100) == 0:\n",
    "            if (year % 400) == 0:\n",
    "                return year\n",
    "        else:\n",
    "            return year\n",
    "\n",
    "def checkMonth(m, y):\n",
    "    month = int(m)\n",
    "    if 1 <= month <= 12:\n",
    "        if month in [4, 6, 9, 11]:\n",
    "            days = 30 \n",
    "        elif month == 2:\n",
    "            if check_leap(y):\n",
    "                days = 29\n",
    "            else:\n",
    "                days = 28\n",
    "        else:\n",
    "            days = 31\n",
    "    return days\n",
    "\n",
    "def checkDate(d, m, y):\n",
    "    day = int(d)\n",
    "    if day <= check_month(m, y):\n",
    "        return d \n",
    "\n",
    "#date = str(input(\"Enter a date :\"))\n",
    "date = \"31-02-2019\"\n",
    "r = re.compile(\"^(?P<day>[0-9]{2})-(?P<month>[0-9]{2})-(?P<year>[0-9]{4})$\")\n",
    "s = re.search(r, date)\n",
    "if s and check_date(s.group('day'), s.group('month'), s.group('year')):\n",
    "            print(date)\n",
    "else:\n",
    "    print(\"Invalid date\")"
   ]
  },
  {
   "cell_type": "code",
   "execution_count": 14,
   "metadata": {},
   "outputs": [
    {
     "name": "stdout",
     "output_type": "stream",
     "text": [
      "12ab.cd_12@xyz.tech.in\n"
     ]
    }
   ],
   "source": [
    "email = \"12ab.cd_12@xyz.tech.in\"\n",
    "r = re.compile(\"^[a-z0-9]+(\\.[a-z0-9]+)?(_[a-z0-9]+)?@[a-z0-9]+(\\.[a-z]{2,4}){1,2}$\")\n",
    "s = re.search(r, email)\n",
    "if s:\n",
    "    print(email)\n",
    "else:\n",
    "    print(\"Invalid mail\")"
   ]
  },
  {
   "cell_type": "code",
   "execution_count": 15,
   "metadata": {},
   "outputs": [
    {
     "name": "stdout",
     "output_type": "stream",
     "text": [
      "The code is available at <a href=\"www.edyoda.com/code/python\">Edyoda</a> and <a href=\"www.github.com/edyoda/python\">Github</a>\n"
     ]
    }
   ],
   "source": [
    "text = \"The code is available at www.edyoda.com/code/python and www.github.com/edyoda/python\"\n",
    "r = re.compile(\"www\\.[a-z]+\\.com/[a-z]+/[a-z]+\")\n",
    "s = re.findall(r, text)\n",
    "\n",
    "for i in s:\n",
    "    text = text.replace(i, '<a href=\"{}\">{}</a>'.format(i, i.split('.')[1].capitalize()))\n",
    "\n",
    "print(text)"
   ]
  }
 ],
 "metadata": {
  "kernelspec": {
   "display_name": "Python 3",
   "language": "python",
   "name": "python3"
  },
  "language_info": {
   "codemirror_mode": {
    "name": "ipython",
    "version": 3
   },
   "file_extension": ".py",
   "mimetype": "text/x-python",
   "name": "python",
   "nbconvert_exporter": "python",
   "pygments_lexer": "ipython3",
   "version": "3.7.4"
  }
 },
 "nbformat": 4,
 "nbformat_minor": 2
}
