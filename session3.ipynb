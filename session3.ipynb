{
 "cells": [
  {
   "cell_type": "code",
   "execution_count": 6,
   "metadata": {},
   "outputs": [
    {
     "name": "stdout",
     "output_type": "stream",
     "text": [
      "It is a vowel\n"
     ]
    }
   ],
   "source": [
    "char = \"a\"\n",
    "if char in \"aeiou\":\n",
    "    print(\"It is a vowel\")\n",
    "else:\n",
    "    print(\"Consonent\")"
   ]
  },
  {
   "cell_type": "code",
   "execution_count": 10,
   "metadata": {},
   "outputs": [
    {
     "name": "stdout",
     "output_type": "stream",
     "text": [
      "Python\n"
     ]
    }
   ],
   "source": [
    "if 0:\n",
    "    print(\"Hai\")\n",
    "else:\n",
    "    print(\"Python\")"
   ]
  },
  {
   "cell_type": "code",
   "execution_count": 13,
   "metadata": {},
   "outputs": [
    {
     "name": "stdout",
     "output_type": "stream",
     "text": [
      "List is not empty\n"
     ]
    }
   ],
   "source": [
    "l = [12,35,67]    #prefered way of writting code\n",
    "if l:\n",
    "    print(\"List is not empty\")\n",
    "else:\n",
    "    print(\"List is empty \")"
   ]
  },
  {
   "cell_type": "code",
   "execution_count": 15,
   "metadata": {},
   "outputs": [
    {
     "name": "stdout",
     "output_type": "stream",
     "text": [
      "Pass\n"
     ]
    }
   ],
   "source": [
    "marks_obtained = 380\n",
    "total_marks = 500\n",
    "percentage = (marks_obtained/total_marks)*100\n",
    "passing_percentage = 40\n",
    "if percentage >= 40:\n",
    "    print(\"Pass\")\n",
    "else:\n",
    "    print(\"Fail\")"
   ]
  },
  {
   "cell_type": "code",
   "execution_count": 19,
   "metadata": {},
   "outputs": [
    {
     "name": "stdout",
     "output_type": "stream",
     "text": [
      "2\n",
      "1560\n",
      "{2000: 2, 500: 3, 100: 0, 50: 1}\n"
     ]
    }
   ],
   "source": [
    "currencies = [2000, 500, 100, 50, 10]\n",
    "note_count = {}\n",
    "amount = 5560\n",
    "note_count[2000] = 5560//2000\n",
    "print(note_count[2000])\n",
    "amount = amount - note_count[2000]*2000\n",
    "print(amount)\n",
    "note_count [500] = amount//500\n",
    "amount = amount - note_count[500]*500\n",
    "note_count [100] = amount//100\n",
    "amount = amount - note_count[100]*100\n",
    "note_count [50] = amount//50\n",
    "print(note_count)\n"
   ]
  },
  {
   "cell_type": "code",
   "execution_count": 26,
   "metadata": {},
   "outputs": [
    {
     "name": "stdout",
     "output_type": "stream",
     "text": [
      "Enter your rating between 1-5 : 1\n",
      "1100.0\n"
     ]
    }
   ],
   "source": [
    "rating = int(input(\"Enter your rating between 1-5 : \"))\n",
    "bill_amount = 1000\n",
    "tip = bill_amount * (rating * 10)/100\n",
    "final_bill = bill_amount + tip\n",
    "print(final_bill)\n",
    "\n",
    "\n"
   ]
  },
  {
   "cell_type": "code",
   "execution_count": null,
   "metadata": {},
   "outputs": [],
   "source": []
  }
 ],
 "metadata": {
  "kernelspec": {
   "display_name": "Python 3",
   "language": "python",
   "name": "python3"
  },
  "language_info": {
   "codemirror_mode": {
    "name": "ipython",
    "version": 3
   },
   "file_extension": ".py",
   "mimetype": "text/x-python",
   "name": "python",
   "nbconvert_exporter": "python",
   "pygments_lexer": "ipython3",
   "version": "3.7.4"
  }
 },
 "nbformat": 4,
 "nbformat_minor": 2
}
