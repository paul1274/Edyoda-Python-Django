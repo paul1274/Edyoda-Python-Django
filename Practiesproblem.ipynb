{
 "cells": [
  {
   "cell_type": "code",
   "execution_count": null,
   "metadata": {},
   "outputs": [],
   "source": [
    "#Given two numbers, print their sum. However, if the two numbers are the same, return double their sum."
   ]
  },
  {
   "cell_type": "code",
   "execution_count": null,
   "metadata": {},
   "outputs": [],
   "source": [
    "num1 = int(input(\"Enter the first number : \"))\n",
    "num2 = int(input(\"Enter the second number : \"))\n",
    "sum = 0\n",
    "if num1 != num2:\n",
    "    sum = num1 + num2\n",
    "else:\n",
    "    sum= 2 * (num1 + num2)\n",
    "print(\"The sum is : \",sum)"
   ]
  },
  {
   "cell_type": "code",
   "execution_count": null,
   "metadata": {},
   "outputs": [],
   "source": [
    "#Given a Cost price and Selling price of a product,write program to calculate profit or loss"
   ]
  },
  {
   "cell_type": "code",
   "execution_count": null,
   "metadata": {},
   "outputs": [],
   "source": [
    "cost_price = int(input(\"Enter the cost price of the product : \"))\n",
    "selling_price = int(input(\"Enter the selling price of the product : \"))\n",
    "loss = 0\n",
    "profit = 0\n",
    "\n",
    "if cost_price > selling_price:\n",
    "    \n",
    "    loss = cost_price - selling_price\n",
    "    \n",
    "    print(\"The loss value : \",loss)\n",
    "    \n",
    "elif cost_price < selling_price:\n",
    "    \n",
    "    profit = selling_price - cost_price\n",
    "    \n",
    "    print(\"The profit gain : \",profit)\n",
    "    \n",
    "else:\n",
    "    \n",
    "    print(\"Neither profit nor loss\")"
   ]
  },
  {
   "cell_type": "code",
   "execution_count": null,
   "metadata": {},
   "outputs": [],
   "source": [
    "#Write a program to input basic salary of an employee and calculate gross salary according to given conditions. Basic Salary <= 10000 : HRA = 20%, DA = 80% Basic Salary is between 10001 to 20000 : HRA = 25%, DA = 90% Basic Salary >= 20001 : HRA = 30%, DA = 95%"
   ]
  },
  {
   "cell_type": "code",
   "execution_count": 3,
   "metadata": {},
   "outputs": [
    {
     "name": "stdout",
     "output_type": "stream",
     "text": [
      "Enter your basic salary : 9850\n",
      "Your gross salary is :  19700.0\n"
     ]
    }
   ],
   "source": [
    "basic_salary = int(input(\"Enter your basic salary : \"))\n",
    "gross_salary = 0\n",
    "hra = 0\n",
    "da = 0\n",
    "if basic_salary <= 10000:\n",
    "    hra = basic_salary * 0.2\n",
    "    da = basic_salary * 0.8\n",
    "    gross_salary = basic_salary + hra + da\n",
    "    print(\"Your gross salary is : \",gross_salary)\n",
    "    \n",
    "elif basic_salary > 10001 and basic_salary < 20000:\n",
    "    hra = basic_salary * 0.25\n",
    "    da = basic_salary * 0.9\n",
    "    gross_salary = basic_salary + hra + da\n",
    "    print(\"Your gross salary is : \",gross_salary)\n",
    "    \n",
    "elif basic_salary >= 20001:\n",
    "    hra = basic_salary * 0.3\n",
    "    da = basic_salary * 0.95\n",
    "    gross_salary = basic_salary + hra + da\n",
    "    print(\"Your gross salary is : \",gross_salary)\n"
   ]
  },
  {
   "cell_type": "code",
   "execution_count": null,
   "metadata": {},
   "outputs": [],
   "source": [
    "#Write a program to check if given year is leap year or not."
   ]
  },
  {
   "cell_type": "code",
   "execution_count": null,
   "metadata": {},
   "outputs": [],
   "source": [
    "year=int(input(\"Enter year to be checked: \"))\n",
    "\n",
    "if(year % 4 == 0 and year % 100 != 0 or year % 400 == 0):\n",
    "    print(year,\"is a leap year!\")\n",
    "else:\n",
    "    print(year,\"isn't a leap year!\")"
   ]
  },
  {
   "cell_type": "markdown",
   "metadata": {},
   "source": []
  },
  {
   "cell_type": "code",
   "execution_count": 5,
   "metadata": {},
   "outputs": [
    {
     "name": "stdout",
     "output_type": "stream",
     "text": [
      "Enter the side : 4\n",
      "Enter the side : 5\n",
      "Enter the side : 4\n",
      "The tringele is isosceles Trinagle\n"
     ]
    }
   ],
   "source": [
    "a = int(input(\"Enter the side : \"))\n",
    "b = int(input(\"Enter the side : \"))\n",
    "c = int(input(\"Enter the side : \"))\n",
    "\n",
    "if (a == b and b == c):\n",
    "    print(\"The tringele is Equilateral Trinagle\")\n",
    "elif (a == b or b == c or c == a):\n",
    "    print(\"The tringele is isosceles Trinagle\")\n",
    "else:\n",
    "    print(\"The triangle is scalene Triangle\")"
   ]
  }
 ],
 "metadata": {
  "kernelspec": {
   "display_name": "Python 3",
   "language": "python",
   "name": "python3"
  },
  "language_info": {
   "codemirror_mode": {
    "name": "ipython",
    "version": 3
   },
   "file_extension": ".py",
   "mimetype": "text/x-python",
   "name": "python",
   "nbconvert_exporter": "python",
   "pygments_lexer": "ipython3",
   "version": "3.7.4"
  }
 },
 "nbformat": 4,
 "nbformat_minor": 2
}
