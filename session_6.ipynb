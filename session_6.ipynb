{
 "cells": [
  {
   "cell_type": "code",
   "execution_count": 6,
   "metadata": {},
   "outputs": [
    {
     "name": "stdout",
     "output_type": "stream",
     "text": [
      "[[101, 202, 303], [404, 505, 606], [707, 808, 909], [1010, 1111, 1212]]\n"
     ]
    }
   ],
   "source": [
    "l1 = [[1,2,3],[4,5,6],[7,8,9],[10,11,12]]\n",
    "l2 = [[100,200,300],[400,500,600],[700,800,900],[1000,1100,1200]]\n",
    "l3 = []\n",
    "for i in range(len(l1)):\n",
    "    temp = []\n",
    "    for j in range(len(l1[0])):\n",
    "        temp.append(l1[i][j] + l2[i][j])\n",
    "    l3.append(temp)\n",
    "print(l3)\n",
    "    "
   ]
  }
 ],
 "metadata": {
  "kernelspec": {
   "display_name": "Python 3",
   "language": "python",
   "name": "python3"
  },
  "language_info": {
   "codemirror_mode": {
    "name": "ipython",
    "version": 3
   },
   "file_extension": ".py",
   "mimetype": "text/x-python",
   "name": "python",
   "nbconvert_exporter": "python",
   "pygments_lexer": "ipython3",
   "version": "3.7.4"
  }
 },
 "nbformat": 4,
 "nbformat_minor": 2
}
